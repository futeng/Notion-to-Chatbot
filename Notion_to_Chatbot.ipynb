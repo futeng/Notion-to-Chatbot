{
  "cells": [
    {
      "attachments": {},
      "cell_type": "markdown",
      "metadata": {},
      "source": [
        "# Chat with Notion databases.\n",
        "\n",
        "prerequisite:\n",
        "\n",
        "1. OpenAI API Key.\n",
        "2. Create a Notion integration.\n",
        "3. You need to obtain a Notion database ID and grant authorization to the above integration for that database.\n",
        "\n",
        "An example of the configuration file `.notion_to_chatbot.ini` is as follows:\n",
        "\n",
        "```\n",
        "[Notion]\n",
        "integration_token = your_integration_token\n",
        "database_id = your_notion_database_id\n",
        "[OpenAI]\n",
        "openai_api_key = your_openai_api_key\n",
        "```"
      ]
    },
    {
      "cell_type": "code",
      "execution_count": null,
      "metadata": {
        "id": "wONp_EGeVMLq"
      },
      "outputs": [],
      "source": [
        "!pip3 install langchain openai chromadb tiktoken"
      ]
    },
    {
      "cell_type": "code",
      "execution_count": 3,
      "metadata": {
        "id": "f6PzpRWvVRQQ"
      },
      "outputs": [],
      "source": [
        "import configparser\n",
        "from langchain.document_loaders import NotionDBLoader\n",
        "\n",
        "config = configparser.ConfigParser()\n",
        "config.read('/Users/futeng/Documents/OneDrive/workspaces/key/.notion_to_chatbot.ini')  \n",
        "\n",
        "integration_token = config['Notion']['integration_token']\n",
        "database_id = config['Notion']['database_id']\n",
        "\n",
        "loader = NotionDBLoader(\n",
        "    integration_token=integration_token,\n",
        "    database_id=database_id,\n",
        "    request_timeout_sec=30,  # optional, defaults to 10\n",
        ")\n",
        "\n",
        "docs = loader.load()"
      ]
    },
    {
      "cell_type": "code",
      "execution_count": 4,
      "metadata": {
        "id": "rv08JkYDWJNc"
      },
      "outputs": [
        {
          "name": "stderr",
          "output_type": "stream",
          "text": [
            "Created a chunk of size 2124, which is longer than the specified 1000\n",
            "Created a chunk of size 2884, which is longer than the specified 1000\n"
          ]
        }
      ],
      "source": [
        "from langchain.chains import RetrievalQA\n",
        "from langchain.embeddings.openai import OpenAIEmbeddings\n",
        "from langchain.llms import OpenAI\n",
        "from langchain.text_splitter import CharacterTextSplitter\n",
        "from langchain.vectorstores import Chroma\n",
        "import os\n",
        "from langchain.docstore.document import Document\n",
        "openai_api_key = config['OpenAI']['openai_api_key']\n",
        "os.environ[\"OPENAI_API_KEY\"] = openai_api_key\n",
        "\n",
        "text_splitter = CharacterTextSplitter(chunk_size=1000, chunk_overlap=0)\n",
        "texts = text_splitter.split_documents(docs)\n",
        "texts = [Document(page_content=x.page_content) for x in texts]"
      ]
    },
    {
      "cell_type": "code",
      "execution_count": 5,
      "metadata": {
        "id": "VxO11rqVW7nO"
      },
      "outputs": [
        {
          "name": "stderr",
          "output_type": "stream",
          "text": [
            "100%|██████████| 1/1 [00:01<00:00,  1.45s/it]\n"
          ]
        }
      ],
      "source": [
        "embeddings = OpenAIEmbeddings()\n",
        "docsearch = Chroma.from_documents(texts, embeddings)\n",
        "\n",
        "qa = RetrievalQA.from_chain_type(llm=OpenAI(), chain_type=\"stuff\", retriever=docsearch.as_retriever())"
      ]
    },
    {
      "cell_type": "code",
      "execution_count": 10,
      "metadata": {
        "colab": {
          "base_uri": "https://localhost:8080/",
          "height": 53
        },
        "id": "ccvyvCc_YbwK",
        "outputId": "70e70327-5fbd-4b68-de9e-65be2d45e97d"
      },
      "outputs": [
        {
          "data": {
            "text/plain": [
              "' The DNS domain name server is 10.0.0.1.'"
            ]
          },
          "execution_count": 10,
          "metadata": {},
          "output_type": "execute_result"
        }
      ],
      "source": [
        "qa.run(\"我的DNS 域名服务器是多少？\")"
      ]
    }
  ],
  "metadata": {
    "colab": {
      "authorship_tag": "ABX9TyONKGQWGXfxDcJVvzPuRuWH",
      "include_colab_link": true,
      "provenance": []
    },
    "kernelspec": {
      "display_name": "Python 3",
      "name": "python3"
    },
    "language_info": {
      "codemirror_mode": {
        "name": "ipython",
        "version": 3
      },
      "file_extension": ".py",
      "mimetype": "text/x-python",
      "name": "python",
      "nbconvert_exporter": "python",
      "pygments_lexer": "ipython3",
      "version": "3.9.9"
    }
  },
  "nbformat": 4,
  "nbformat_minor": 0
}
